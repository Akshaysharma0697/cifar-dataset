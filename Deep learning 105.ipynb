{
 "cells": [
  {
   "cell_type": "code",
   "execution_count": 1,
   "metadata": {},
   "outputs": [],
   "source": [
    "import tensorflow as tf\n",
    "config = tf.ConfigProto()\n",
    "config.gpu_options.allow_growth = True\n",
    "sess = tf.Session(config=config)\n"
   ]
  },
  {
   "cell_type": "code",
   "execution_count": 13,
   "metadata": {},
   "outputs": [],
   "source": [
    "import keras\n",
    "from keras.datasets import cifar10\n",
    "from keras.preprocessing.image import ImageDataGenerator\n",
    "from keras.models import Sequential\n",
    "from keras.layers import Dense,Dropout,Activation,Flatten,Conv2D,MaxPooling2D\n",
    "from keras.models import load_model\n"
   ]
  },
  {
   "cell_type": "code",
   "execution_count": 14,
   "metadata": {},
   "outputs": [],
   "source": [
    "batch_size=32\n",
    "num_classes=10\n",
    "epochs=2\n",
    "(x_train,y_train),(x_test,y_test)=cifar10.load_data()"
   ]
  },
  {
   "cell_type": "code",
   "execution_count": 15,
   "metadata": {},
   "outputs": [
    {
     "name": "stdout",
     "output_type": "stream",
     "text": [
      "(50000, 32, 32, 3)\n",
      "(10000, 32, 32, 3)\n"
     ]
    }
   ],
   "source": [
    "print(x_train.shape)\n",
    "print(x_test.shape)"
   ]
  },
  {
   "cell_type": "code",
   "execution_count": 16,
   "metadata": {},
   "outputs": [],
   "source": [
    "x_train=x_train.astype('float32')\n",
    "x_test=x_test.astype('float32')\n",
    "x_train/=255\n",
    "x_test/=255"
   ]
  },
  {
   "cell_type": "code",
   "execution_count": 17,
   "metadata": {},
   "outputs": [],
   "source": [
    "y_train=keras.utils.to_categorical(y_train,num_classes)\n",
    "y_test=keras.utils.to_categorical(y_test,num_classes)"
   ]
  },
  {
   "cell_type": "code",
   "execution_count": 18,
   "metadata": {},
   "outputs": [],
   "source": [
    "model=Sequential()\n",
    "model.add(Conv2D(32,(3,3),padding='Same',input_shape=x_train.shape[1:]))\n",
    "model.add(Activation('relu'))\n",
    "model.add(Conv2D(32,(3,3)))\n",
    "model.add(Activation('relu'))\n",
    "model.add(MaxPooling2D(pool_size=(2,2)))\n",
    "model.add(Dropout(0.25))\n",
    "model.add(Conv2D(64,(3,3),padding='Same',input_shape=x_train.shape[1:]))\n",
    "model.add(Activation('relu'))\n",
    "model.add(MaxPooling2D(pool_size=(2,2)))\n",
    "model.add(Dropout(0.25))\n",
    "\n",
    "model.add(Flatten())\n",
    "model.add(Dense(512))\n",
    "model.add(Activation('relu'))\n",
    "model.add(Dropout(.25))\n",
    "model.add(Dense(num_classes))\n",
    "model.add(Activation('softmax'))\n"
   ]
  },
  {
   "cell_type": "code",
   "execution_count": 19,
   "metadata": {},
   "outputs": [],
   "source": [
    "opt=keras.optimizers.rmsprop(lr=0.0001,decay=1e-6)"
   ]
  },
  {
   "cell_type": "code",
   "execution_count": 20,
   "metadata": {},
   "outputs": [
    {
     "name": "stdout",
     "output_type": "stream",
     "text": [
      "<bound method Network.summary of <keras.engine.sequential.Sequential object at 0x0000020AEAC12E80>>\n"
     ]
    }
   ],
   "source": [
    "model.compile(loss='categorical_crossentropy',optimizer=opt,metrics=['accuracy'])\n",
    "model.summary()"
   ]
  },
  {
   "cell_type": "code",
   "execution_count": 21,
   "metadata": {},
   "outputs": [
    {
     "name": "stdout",
     "output_type": "stream",
     "text": [
      "Train on 50000 samples, validate on 10000 samples\n",
      "Epoch 1/2\n",
      "50000/50000 [==============================] - 137s 3ms/step - loss: 1.7624 - acc: 0.3613 - val_loss: 1.5420 - val_acc: 0.4397\n",
      "Epoch 2/2\n",
      "50000/50000 [==============================] - 133s 3ms/step - loss: 1.4677 - acc: 0.4717 - val_loss: 1.3430 - val_acc: 0.5267\n",
      "Test losses 1.3430126508712767\n",
      "Test accuracy 0.5267\n"
     ]
    }
   ],
   "source": [
    "\n",
    "history=model.fit(x_train,y_train,\n",
    "                  batch_size=batch_size,\n",
    "                  epochs=epochs,\n",
    "                  validation_data=(x_test,y_test))\n",
    "#batch size here is how many nodes in hidden layer\n",
    "score=model.evaluate(x_test,y_test,verbose=0)\n",
    "print('Test losses',score[0])\n",
    "print('Test accuracy',score[1])"
   ]
  },
  {
   "cell_type": "code",
   "execution_count": 22,
   "metadata": {},
   "outputs": [],
   "source": [
    "model.save('cifar_cnn_5.h5')"
   ]
  },
  {
   "cell_type": "code",
   "execution_count": 23,
   "metadata": {},
   "outputs": [],
   "source": [
    "import cv2\n",
    "import numpy as np\n",
    "from keras.models import load_model"
   ]
  },
  {
   "cell_type": "code",
   "execution_count": 24,
   "metadata": {},
   "outputs": [],
   "source": [
    "img_row,img_height,img_depth=32,32,3\n",
    "classifier=load_model('cifar_cnn_5.h5')\n",
    "color=True\n",
    "Scale=8\n",
    "def draw_test(name,res,input_im,Scale,img_row,img_height):\n",
    "    BLACK=[0,0,0]\n",
    "    res=int(res)\n",
    "    if res==0:\n",
    "        pred='airplane'\n",
    "    if res==1:\n",
    "        pred='automobile'\n",
    "    if res==2:\n",
    "        pred='bird'\n",
    "    if res==3:\n",
    "        pred='cat'\n",
    "    if res==4:\n",
    "        pred='deer'\n",
    "    if res==5:\n",
    "        pred='dog'\n",
    "    if res==6:\n",
    "        pred='frog'\n",
    "    if res==7:\n",
    "        pred='horse'\n",
    "    if res==8:\n",
    "        pred='ship'\n",
    "    if res==9:\n",
    "        pred='truck'\n",
    "    expanded_image=cv2.copyMakeBorder(input_im,0,0,0,imageL.shape[0]*2,cv2.BORDER_CONSTANT,value=BLACK)\n",
    "    if color==False:#if the image is black n white then it converts it into bgr\n",
    "        expanded_image=cv2.cvtColor(expanded_image,cv2.COLOR_GRAY2BGR)\n",
    "    cv2.putText(expanded_image,str(pred),(300,80),cv2.FONT_HERSHEY_COMPLEX_SMALL,3,(0,255,0),2)\n",
    "    cv2.imshow(name,expanded_image)\n",
    "    \n"
   ]
  },
  {
   "cell_type": "code",
   "execution_count": 25,
   "metadata": {},
   "outputs": [
    {
     "name": "stdout",
     "output_type": "stream",
     "text": [
      "(256, 256, 3)\n",
      "(1, 32, 32, 3)\n",
      "(256, 256, 3)\n",
      "(1, 32, 32, 3)\n",
      "(256, 256, 3)\n",
      "(1, 32, 32, 3)\n",
      "(256, 256, 3)\n",
      "(1, 32, 32, 3)\n",
      "(256, 256, 3)\n",
      "(1, 32, 32, 3)\n",
      "(256, 256, 3)\n",
      "(1, 32, 32, 3)\n",
      "(256, 256, 3)\n",
      "(1, 32, 32, 3)\n",
      "(256, 256, 3)\n",
      "(1, 32, 32, 3)\n",
      "(256, 256, 3)\n",
      "(1, 32, 32, 3)\n",
      "(256, 256, 3)\n",
      "(1, 32, 32, 3)\n"
     ]
    }
   ],
   "source": [
    "for i in range(10):\n",
    "    rand=np.random.randint(0,len(x_test))\n",
    "    input_im=x_test[rand]\n",
    "    imageL=cv2.resize(input_im,None,fx=Scale,fy=Scale,interpolation=cv2.INTER_CUBIC)#32  pixel thi but ab wo 32*8=256 hogya i.e xaxis  and yaxis *8 i.e enlarge kr diya image ko\n",
    "    #every pixel gets enlarged by 8 and by intercubic method so interpolation is intercubic\n",
    "    cv2.imshow('imageL',imageL)\n",
    "    print(imageL.shape)\n",
    "    input_im=input_im.reshape(1,img_row,img_height,img_depth)\n",
    "    print(input_im.shape)\n",
    "    res=str(classifier.predict_classes(input_im,1,verbose=0)[0])\n",
    "    draw_test('Prediction',res,imageL,Scale,img_row,img_height)\n",
    "    cv2.waitKey(0)\n",
    "cv2.destroyAllWindows()"
   ]
  },
  {
   "cell_type": "code",
   "execution_count": null,
   "metadata": {},
   "outputs": [],
   "source": []
  }
 ],
 "metadata": {
  "kernelspec": {
   "display_name": "Python 3",
   "language": "python",
   "name": "python3"
  },
  "language_info": {
   "codemirror_mode": {
    "name": "ipython",
    "version": 3
   },
   "file_extension": ".py",
   "mimetype": "text/x-python",
   "name": "python",
   "nbconvert_exporter": "python",
   "pygments_lexer": "ipython3",
   "version": "3.7.3"
  }
 },
 "nbformat": 4,
 "nbformat_minor": 2
}
